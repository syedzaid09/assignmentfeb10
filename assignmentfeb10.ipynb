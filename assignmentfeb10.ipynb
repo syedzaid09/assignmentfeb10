{
 "cells": [
  {
   "cell_type": "markdown",
   "id": "1f4662e2-a85b-4588-b966-1039ef150886",
   "metadata": {},
   "source": [
    "Qus1.Which function is used to open a file? What are the different modes of opening a file? Explain each mode of file opening.\n",
    "\n"
   ]
  },
  {
   "cell_type": "markdown",
   "id": "a805670c-0bb8-44a9-8387-fe1276559cfd",
   "metadata": {},
   "source": [
    "open() function is used to open a file.\n",
    "the different modes of opening a file are:-\n",
    "* Read Only (‘r’): Open text file for reading. The handle is positioned at the beginning of the file. If the file does not exist, raises an I/O error. This is also the default mode in which the file is opened.\n",
    "\n",
    "* Read and Write (‘r+’): Open the file for reading and writing. The handle is positioned at the beginning of the file. Raises I/O error if the file does not exist.\n",
    "\n",
    "* Write Only (‘w’): Open the file for writing. For the existing files, the data is truncated and over-written. The handle is positioned at the beginning of the file. Creates the file if the file does not exist.\n",
    "\n",
    "* Write and Read (‘w+’): Open the file for reading and writing. For existing files, data is truncated and over-written. The handle is positioned at the beginning of the file.\n",
    "\n",
    "* Append Only (‘a’): Open the file for writing. The file is created if it does not exist. The handle is positioned at the end of the file. The data being written will be inserted at the end, after the existing data.\n",
    "\n",
    "* Append and Read (‘a+’): Open the file for reading and writing. The file is created if it does not exist. The handle is positioned at the end of the file. The data being written will be inserted at the end, after the existing data."
   ]
  },
  {
   "cell_type": "markdown",
   "id": "d8f594b6-0462-4b80-a319-998988f4e0f3",
   "metadata": {},
   "source": [
    "Qus2. Why close() function is used? Why is it important to close a file?"
   ]
  },
  {
   "cell_type": "markdown",
   "id": "1b3b5740-1f7f-4c2a-9aee-a3060894f085",
   "metadata": {},
   "source": [
    "The close () method closes an open file. You should always close your files, in some cases, due to buffering, changes made to a file may not show until you close the file.\n",
    "t’s important to close files in Python. Because files are limited resources managed by the operating system, making sure files are closed after use will protect against hard-to-debug issues like running out of file handles or experiencing corrupted data."
   ]
  },
  {
   "cell_type": "markdown",
   "id": "da46bfad-54cf-4844-985e-65fe6d2fec70",
   "metadata": {},
   "source": [
    "Qus3.Write a python program to create a text file. Write ‘I want to become a Data Scientist’ in that file. Then close the file. Open this file and read the content of the file.  "
   ]
  },
  {
   "cell_type": "code",
   "execution_count": 1,
   "id": "36f0d142-4e1c-40e1-bb22-4b38c780f035",
   "metadata": {},
   "outputs": [
    {
     "name": "stdout",
     "output_type": "stream",
     "text": [
      "i want to become a Data Scientist\n"
     ]
    }
   ],
   "source": [
    "f=open(\"qus3.txt\",\"w\")\n",
    "f.write(\"i want to become a Data Scientist\")\n",
    "f.close()\n",
    "f=open(\"qus3.txt\",\"r\")\n",
    "print(f.read())"
   ]
  },
  {
   "cell_type": "markdown",
   "id": "be5f8aa6-a46e-4397-8f4c-da5fdf1ef5e9",
   "metadata": {},
   "source": [
    "Qus4.4. Explain the following with python code: read(), readline() and readlines()."
   ]
  },
  {
   "cell_type": "markdown",
   "id": "987da75d-8ca4-4b1c-8263-d6497d3c5324",
   "metadata": {},
   "source": [
    "read():\n",
    "The Python file read() function allows us to read an entire file at once and store it in a string. Depending on the size of your file.\n"
   ]
  },
  {
   "cell_type": "code",
   "execution_count": 3,
   "id": "dff4c341-dc54-463a-be51-5be1d1695a15",
   "metadata": {},
   "outputs": [
    {
     "name": "stdout",
     "output_type": "stream",
     "text": [
      "i want to become a Data Scientist\n"
     ]
    }
   ],
   "source": [
    "f=open(\"qus3.txt\",\"r\")\n",
    "print(f.read())"
   ]
  },
  {
   "cell_type": "markdown",
   "id": "fe631852-e070-4726-9fef-9c8ce679cc26",
   "metadata": {},
   "source": [
    "readline():The readline() method returns one line from the file.You can also specified how many bytes from the line to return, by using the size parameter."
   ]
  },
  {
   "cell_type": "code",
   "execution_count": 5,
   "id": "c6fc8450-5453-4ee3-8d84-aeddb6c1e3ad",
   "metadata": {},
   "outputs": [
    {
     "name": "stdout",
     "output_type": "stream",
     "text": [
      "i want to \n"
     ]
    }
   ],
   "source": [
    "f=open(\"qus3.txt\",\"r\")\n",
    "print(f.readline(10))"
   ]
  },
  {
   "cell_type": "markdown",
   "id": "bc4f76d2-22f0-48ac-970a-d53320f6a19a",
   "metadata": {},
   "source": [
    "readlines():The readlines() method returns a list containing each line in the file as a list item.\n",
    "\n",
    "Use the hint parameter to limit the number of lines returned. If the total number of bytes returned exceeds the specified number, no more lines are returned."
   ]
  },
  {
   "cell_type": "code",
   "execution_count": 9,
   "id": "c4c637be-2099-4914-9bc5-86a9a0f1e0b8",
   "metadata": {},
   "outputs": [
    {
     "name": "stdout",
     "output_type": "stream",
     "text": [
      "['i want to become a Data Scientist']\n"
     ]
    }
   ],
   "source": [
    "f=open(\"qus3.txt\",\"r\")\n",
    "print(f.readlines(10))"
   ]
  },
  {
   "cell_type": "markdown",
   "id": "888da623-3fc1-443a-b333-dac5a21ddca4",
   "metadata": {},
   "source": [
    "Qus5.Explain why with statement is used with open(). What is the advantage of using with statement and \n",
    "open() together?"
   ]
  },
  {
   "cell_type": "markdown",
   "id": "d296ded0-9f42-4e4e-a324-6a8f8ad7a905",
   "metadata": {},
   "source": [
    "“with statement” creates an execution block and object created in the with statement will be destroyed or gracefully closed when this execution block ends.\n",
    "\n",
    "It means when we used “with statement” with open() function, an execution blocked started and the file object returned by open() function is assigned to file_object. When this execution block of “with statement” end, then the file object’s close function gets called automatically, and the file will be closed gracefully. We don’t need to manually call the close() function anymore if we are using “with statement”\n",
    "\n",
    "the advantage of using with statement and open() together is:\n",
    "* Fewer chances of bug due to coding error\n",
    "* Excellent handling in case of exception\n"
   ]
  },
  {
   "cell_type": "markdown",
   "id": "d2bf10fc-d4f7-4555-95b9-a9d23dc3ae5e",
   "metadata": {},
   "source": [
    "Qus6.Explain the write() and writelines() functions. Give a suitable example."
   ]
  },
  {
   "cell_type": "markdown",
   "id": "8684e250-fdb0-4ae5-b2e4-273cacf49f3f",
   "metadata": {},
   "source": [
    "write() function:\n",
    "The write() function will write the content in the file without adding any extra characters."
   ]
  },
  {
   "cell_type": "code",
   "execution_count": 11,
   "id": "9314b314-bc5f-4a23-8330-c3ec617d90a4",
   "metadata": {},
   "outputs": [
    {
     "name": "stdin",
     "output_type": "stream",
     "text": [
      "Enter the name of the employee:  zaid\n",
      "Enter the name of the employee:  syed\n",
      "Enter the name of the employee:  anil\n"
     ]
    },
    {
     "name": "stdout",
     "output_type": "stream",
     "text": [
      "Data is written into the file.\n"
     ]
    }
   ],
   "source": [
    "file = open(\"Qus3.txt\", \"w\")\n",
    "  \n",
    "for i in range(3):\n",
    "   name = input(\"Enter the name of the employee: \")\n",
    "   file.write(name)\n",
    "   file.write(\"\\n\")\n",
    "     \n",
    "file.close()\n",
    "  \n",
    "print(\"Data is written into the file.\")"
   ]
  },
  {
   "cell_type": "markdown",
   "id": "56d4b83d-c9ae-49c7-be7d-78e61be8f413",
   "metadata": {},
   "source": [
    "writelines() function:This function writes the content of a list to a file.\n",
    "the list of strings that is passed to the writelines() function is written into the opened file. Similar to the write() function, the writelines() function does not add a newline character(\\n) to the end of the string."
   ]
  },
  {
   "cell_type": "code",
   "execution_count": 13,
   "id": "f67ec8ca-0ec4-49d0-9b93-cf50e73d5aa3",
   "metadata": {},
   "outputs": [
    {
     "name": "stdin",
     "output_type": "stream",
     "text": [
      "Enter the name of the employee:  syed \n",
      "Enter the name of the employee:  zaid\n",
      "Enter the name of the employee:  ali\n"
     ]
    },
    {
     "name": "stdout",
     "output_type": "stream",
     "text": [
      "Data is written into the file.\n"
     ]
    }
   ],
   "source": [
    "file1 = open(\"Employees.txt\", \"w\")\n",
    "lst = []\n",
    "for i in range(3):\n",
    "    name = input(\"Enter the name of the employee: \")\n",
    "    lst.append(name + '\\n')\n",
    "      \n",
    "file1.writelines(lst)\n",
    "file1.close()\n",
    "print(\"Data is written into the file.\") "
   ]
  },
  {
   "cell_type": "code",
   "execution_count": null,
   "id": "23e0f4b1-e600-417b-b456-9a86468eb763",
   "metadata": {},
   "outputs": [],
   "source": []
  }
 ],
 "metadata": {
  "kernelspec": {
   "display_name": "Python 3 (ipykernel)",
   "language": "python",
   "name": "python3"
  },
  "language_info": {
   "codemirror_mode": {
    "name": "ipython",
    "version": 3
   },
   "file_extension": ".py",
   "mimetype": "text/x-python",
   "name": "python",
   "nbconvert_exporter": "python",
   "pygments_lexer": "ipython3",
   "version": "3.10.8"
  }
 },
 "nbformat": 4,
 "nbformat_minor": 5
}
